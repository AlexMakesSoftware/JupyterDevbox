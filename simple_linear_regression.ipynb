{
 "cells": [
  {
   "cell_type": "code",
   "execution_count": null,
   "metadata": {},
   "outputs": [],
   "source": [
    "import plotly.express as px\n",
    "from dataclasses import dataclass\n",
    "import numpy as np\n",
    "\n",
    "@dataclass\n",
    "class Coefficient:\n",
    "    intercept: float\n",
    "    slope: float\n",
    "\n",
    "#Simple linear regression fn\n",
    "def coef_estimation(x,y) -> Coefficient:\n",
    "    n = np.size(x) #no. of observations.\n",
    "    mean_x, mean_y = np.mean(x), np.mean(y) #averages of x and y.\n",
    "    cross_xy = np.sum(y*x) - n * mean_y * mean_x    # cross-deviation (how much x and y vary from their respective means, but in relation to each other).\n",
    "    cross_xx = np.sum(x*x) - n*mean_x * mean_x      # variance of x (how big the x values spread from their mean).\n",
    "    print(\"Cross-Deviation (cross_xy):\", cross_xy)\n",
    "    print(\"Variance of x (cross_xx):\", cross_xx)\n",
    "    \n",
    "    #Calculate the linear regression line.\n",
    "    slope = cross_xy / cross_xx\n",
    "    intercept = mean_y - slope * mean_x\n",
    "    \n",
    "    return Coefficient(intercept, slope)\n",
    "\n",
    "\n",
    "def plot_regression_line(x:float, y:float, ceof: Coefficient):\n",
    "    fig = px.scatter(x=x,y=y)\n",
    "\n",
    "    # Manually add regression line\n",
    "    regression_formula = ceof.intercept + ceof.slope * x\n",
    "    print(regression_formula)\n",
    "    fig.add_scatter(x=x, y=regression_formula, mode='lines', name='Manual Regression Line')\n",
    "\n",
    "    fig.show()\n",
    "\n",
    "\n",
    "def main():\n",
    "    x = np.array([0,1,2,3,4,5,6,7,8,9,10,11,12,13,14])\n",
    "    y = np.array([100,300,350,500,750,850,900,950,1250,1350,1400,1550,1600,1650,1700])\n",
    "\n",
    "    ceof = coef_estimation(x,y)\n",
    "    #print(\"Estimated coefficients:\",b)\n",
    "          #\\n reg_b_0 = {} \\n reg_b_1 = {}\", format(b[0],b[1]))\n",
    "    \n",
    "    plot_regression_line(x,y,ceof)\n",
    "\n",
    "\n",
    "if __name__ == \"__main__\":\n",
    "    main()\n",
    "\n"
   ]
  }
 ],
 "metadata": {
  "kernelspec": {
   "display_name": "Devbox Environment",
   "language": "python",
   "name": "devbox-env"
  },
  "language_info": {
   "codemirror_mode": {
    "name": "ipython",
    "version": 3
   },
   "file_extension": ".py",
   "mimetype": "text/x-python",
   "name": "python",
   "nbconvert_exporter": "python",
   "pygments_lexer": "ipython3",
   "version": "3.12.4"
  }
 },
 "nbformat": 4,
 "nbformat_minor": 2
}
